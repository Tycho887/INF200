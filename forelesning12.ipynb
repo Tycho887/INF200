{
 "cells": [
  {
   "cell_type": "markdown",
   "metadata": {},
   "source": [
    "# Pytorch\n"
   ]
  },
  {
   "cell_type": "code",
   "execution_count": 3,
   "metadata": {},
   "outputs": [
    {
     "name": "stdout",
     "output_type": "stream",
     "text": [
      "tensor([0.])\n"
     ]
    }
   ],
   "source": [
    "import torch\n",
    "from torch.autograd import Variable\n",
    "\n",
    "x = Variable(torch.tensor([0.0]), requires_grad=True)\n",
    "\n",
    "# torch.tensor([0.0]) er en 1x1 tensor med verdien 0.0\n",
    "\n",
    "def f(x):\n",
    "    return x**2\n",
    "\n",
    "y = f(x)\n",
    "y.backward()\n",
    "print(x.grad)"
   ]
  },
  {
   "cell_type": "code",
   "execution_count": 5,
   "metadata": {},
   "outputs": [
    {
     "name": "stdout",
     "output_type": "stream",
     "text": [
      "tensor([2.])\n"
     ]
    }
   ],
   "source": [
    "def g(x, a):\n",
    "    return a + 2*x\n",
    "\n",
    "x = Variable(torch.tensor([1.0]), requires_grad=True)\n",
    "a = Variable(torch.tensor([3.0]), requires_grad=True)\n",
    "y = g(x, a)\n",
    "y.backward()\n",
    "print(x.grad)\n",
    "\n",
    "# a computation graph is a directed acyclic graph (DAG) where the nodes are operations and the edges are tensors\n",
    "# the graph is built dynamically as the operations are executed"
   ]
  },
  {
   "cell_type": "code",
   "execution_count": 7,
   "metadata": {},
   "outputs": [
    {
     "name": "stdout",
     "output_type": "stream",
     "text": [
      "tensor([2.0370e-10, 2.4065e-09], requires_grad=True)\n"
     ]
    }
   ],
   "source": [
    "def f(x):\n",
    "    return x[0]**2 + 0.9*(x[1])**2\n",
    "\n",
    "x = Variable(torch.tensor([1.0, 1.0]), requires_grad=True)\n",
    "optimizer = torch.optim.SGD([x], lr=0.1)\n",
    "\n",
    "for i in range(100):\n",
    "    y = f(x)\n",
    "    y.backward()\n",
    "    optimizer.step()\n",
    "    # zero the gradient\n",
    "    optimizer.zero_grad()\n",
    "\n",
    "# this finds the values of x and y that minimizes f(x,y) = x^2 + 0.9y^2\n",
    "\n",
    "print(x)\n"
   ]
  },
  {
   "cell_type": "code",
   "execution_count": 21,
   "metadata": {},
   "outputs": [
    {
     "name": "stdout",
     "output_type": "stream",
     "text": [
      "A    1\n",
      "B    2\n",
      "C    3\n",
      "Name: Numbers, dtype: int64\n"
     ]
    },
    {
     "data": {
      "text/plain": [
       "[<matplotlib.lines.Line2D at 0x286b2d103a0>]"
      ]
     },
     "execution_count": 21,
     "metadata": {},
     "output_type": "execute_result"
    },
    {
     "data": {
      "image/png": "[encoded data removed]",
      "text/plain": [
       "<Figure size 1200x400 with 2 Axes>"
      ]
     },
     "metadata": {},
     "output_type": "display_data"
    }
   ],
   "source": [
    "import pandas as pd\n",
    "import matplotlib.pyplot as plt\n",
    "\n",
    "v = pd.Series([1,2,3,4,5,6,3,8,9,10])\n",
    "\n",
    "\n",
    "v.index = [\"A\", \"B\", \"C\", \"D\", \"E\", \"F\", \"G\", \"H\", \"I\", \"J\"]\n",
    "\n",
    "v.name = \"Numbers\"\n",
    "\n",
    "print(v[:'C']) # in pandas the final element is included in the result set. This is different from numpy\n",
    "\n",
    "fig, ax = plt.subplots(1,2, figsize=(12,4))\n",
    "ax[0].plot(v)\n",
    "\n",
    "plt.plot(v)"
   ]
  },
  {
   "cell_type": "markdown",
   "metadata": {},
   "source": [
    "## Dataframes"
   ]
  },
  {
   "cell_type": "code",
   "execution_count": 27,
   "metadata": {},
   "outputs": [
    {
     "data": {
      "text/html": [
       "<div>\n",
       "<style scoped>\n",
       "    .dataframe tbody tr th:only-of-type {\n",
       "        vertical-align: middle;\n",
       "    }\n",
       "\n",
       "    .dataframe tbody tr th {\n",
       "        vertical-align: top;\n",
       "    }\n",
       "\n",
       "    .dataframe thead th {\n",
       "        text-align: right;\n",
       "    }\n",
       "</style>\n",
       "<table border=\"1\" class=\"dataframe\">\n",
       "  <thead>\n",
       "    <tr style=\"text-align: right;\">\n",
       "      <th></th>\n",
       "      <th>District</th>\n",
       "      <th>Votes</th>\n",
       "    </tr>\n",
       "    <tr>\n",
       "      <th>Party</th>\n",
       "      <th></th>\n",
       "      <th></th>\n",
       "    </tr>\n",
       "  </thead>\n",
       "  <tbody>\n",
       "    <tr>\n",
       "      <th>A</th>\n",
       "      <td>Oslo</td>\n",
       "      <td>1000</td>\n",
       "    </tr>\n",
       "    <tr>\n",
       "      <th>B</th>\n",
       "      <td>Oslo</td>\n",
       "      <td>1000</td>\n",
       "    </tr>\n",
       "  </tbody>\n",
       "</table>\n",
       "</div>"
      ],
      "text/plain": [
       "      District  Votes\n",
       "Party                \n",
       "A         Oslo   1000\n",
       "B         Oslo   1000"
      ]
     },
     "execution_count": 27,
     "metadata": {},
     "output_type": "execute_result"
    }
   ],
   "source": [
    "votes = pd.DataFrame.from_records([{'District': 'Oslo', 'Party': 'A', 'Votes': 1000},\n",
    "                                   {'District': 'Oslo', 'Party': 'B', 'Votes': 1000}])\n",
    "\n",
    "votes.set_index(['Party'], inplace=True)\n",
    "votes"
   ]
  }
 ],
 "metadata": {
  "kernelspec": {
   "display_name": "INF201",
   "language": "python",
   "name": "python3"
  },
  "language_info": {
   "codemirror_mode": {
    "name": "ipython",
    "version": 3
   },
   "file_extension": ".py",
   "mimetype": "text/x-python",
   "name": "python",
   "nbconvert_exporter": "python",
   "pygments_lexer": "ipython3",
   "version": "3.10.13"
  }
 },
 "nbformat": 4,
 "nbformat_minor": 2
}
