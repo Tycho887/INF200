{
 "cells": [
  {
   "cell_type": "markdown",
   "metadata": {},
   "source": [
    "# Neural network\n",
    "\n",
    "<h3>Part 1-3: creating the layer and network objects, with read- and evaluate methods</h3>"
   ]
  },
  {
   "cell_type": "code",
   "execution_count": 33,
   "metadata": {},
   "outputs": [],
   "source": [
    "import numpy as np\n",
    "\n",
    "class Layer:\n",
    "    def __init__(self,weight_file,bias_file):\n",
    "        self.weight_file = weight_file\n",
    "        self.bias_file = bias_file\n",
    "        self.weight = None\n",
    "        self.bias = None\n",
    "    def read_data(self):\n",
    "        self.weight = np.loadtxt(self.weight_file)\n",
    "        self.bias = np.loadtxt(self.bias_file)\n",
    "\n",
    "class Network:\n",
    "    def __init__(self,layers):\n",
    "        assert isinstance(layers[0],Layer)\n",
    "        self.layers = layers\n",
    "        self.activation = lambda x: np.maximum(0,x)\n",
    "\n",
    "    def read_network_data(self):\n",
    "        for layer in self.layers:\n",
    "            layer.read_data()\n",
    "\n",
    "    def evaluate(self,input):\n",
    "        assert input.shape[0] == self.layers[0].weight.shape[1], f\"Input size must match network input size: {self.layers[0].weight.shape[1]}\"\n",
    "        state_vector = input\n",
    "        for layer in self.layers:\n",
    "            state_vector = self.activation(layer.weight @ state_vector + layer.bias)\n",
    "        return state_vector"
   ]
  },
  {
   "cell_type": "markdown",
   "metadata": {},
   "source": [
    "<h3>Reading in the matrix data and initialising the network</h3>"
   ]
  },
  {
   "cell_type": "code",
   "execution_count": 34,
   "metadata": {},
   "outputs": [
    {
     "data": {
      "text/plain": [
       "array([   0.        , 2406.97391537, 3726.62935767, 3301.14916818,\n",
       "          0.        , 3785.04887615,    0.        ,    0.        ,\n",
       "       4751.11112276,    0.        ])"
      ]
     },
     "execution_count": 34,
     "metadata": {},
     "output_type": "execute_result"
    }
   ],
   "source": [
    "from pathlib import Path\n",
    "\n",
    "cwd = Path.cwd()\n",
    "data_dir = cwd / 'exercise6_data'\n",
    "\n",
    "weight_files = []; bias_files = []\n",
    "for file in data_dir.glob('*.txt'):\n",
    "    if file.name.startswith('W'):\n",
    "        weight_files.append(file)\n",
    "    elif file.name.startswith('b'):\n",
    "        bias_files.append(file)\n",
    "\n",
    "\n",
    "layers = [Layer(w,b) for w,b in zip(weight_files,bias_files)]\n",
    "\n",
    "network = Network(layers)\n",
    "network.read_network_data()\n",
    "\n",
    "network.evaluate(np.ones(784))"
   ]
  },
  {
   "cell_type": "code",
   "execution_count": null,
   "metadata": {},
   "outputs": [],
   "source": []
  }
 ],
 "metadata": {
  "kernelspec": {
   "display_name": "INF201",
   "language": "python",
   "name": "python3"
  },
  "language_info": {
   "codemirror_mode": {
    "name": "ipython",
    "version": 3
   },
   "file_extension": ".py",
   "mimetype": "text/x-python",
   "name": "python",
   "nbconvert_exporter": "python",
   "pygments_lexer": "ipython3",
   "version": "3.10.13"
  }
 },
 "nbformat": 4,
 "nbformat_minor": 2
}
