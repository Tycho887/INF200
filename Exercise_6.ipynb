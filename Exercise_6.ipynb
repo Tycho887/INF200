{
 "cells": [
  {
   "cell_type": "markdown",
   "metadata": {},
   "source": [
    "# Neural network\n",
    "\n",
    "<h3>Task 1-3: creating the layer and network objects, with read- and evaluate methods</h3>"
   ]
  },
  {
   "cell_type": "code",
   "execution_count": null,
   "metadata": {},
   "outputs": [],
   "source": [
    "import numpy as np\n",
    "\n",
    "class Layer:\n",
    "    def __init__(self,weight_file,bias_file,cols=None,rows=None):\n",
    "        self.weight_file = weight_file\n",
    "        self.bias_file = bias_file\n",
    "        try:\n",
    "            self.weight = np.random.rand(rows,cols)\n",
    "            self.bias = np.random.rand(rows)\n",
    "        except TypeError:\n",
    "            pass\n",
    "    def read_data(self):\n",
    "        self.weight = np.loadtxt(self.weight_file)\n",
    "        self.bias = np.loadtxt(self.bias_file)\n",
    "\n",
    "class Network:\n",
    "    def __init__(self,layers):\n",
    "        assert isinstance(layers[0],Layer)\n",
    "        self.layers = layers\n",
    "        self.activation = lambda x: np.maximum(0,x)\n",
    "\n",
    "    def read_network_data(self):\n",
    "        for layer in self.layers:\n",
    "            layer.read_data()\n",
    "\n",
    "    def evaluate(self,input):\n",
    "        assert input.shape[0] == self.layers[0].weight.shape[1], f\"Input size must match network input size: {self.layers[0].weight.shape[1]}\"\n",
    "        state_vector = input\n",
    "        for layer in self.layers:\n",
    "            state_vector = self.activation(layer.weight @ state_vector + layer.bias)\n",
    "        return state_vector"
   ]
  },
  {
   "cell_type": "markdown",
   "metadata": {},
   "source": [
    "<h3>Reading in the matrix data and initialising the network</h3>\n",
    "\n",
    "NB! i am storing the data in a folder called \"exercise6_data\", modify the code to work on your machine"
   ]
  },
  {
   "cell_type": "code",
   "execution_count": null,
   "metadata": {},
   "outputs": [],
   "source": [
    "from pathlib import Path\n",
    "import re\n",
    "\n",
    "cwd = Path.cwd()\n",
    "data_dir = cwd / 'exercise6_data'\n",
    "\n",
    "weight_files = []; bias_files = []\n",
    "\n",
    "# Defining the pattern of the files we want to read\n",
    "W_pattern = re.compile(r'W_[0-9]+.txt')\n",
    "b_pattern = re.compile(r'b_[0-9]+.txt')\n",
    "\n",
    "for file in data_dir.glob('*.txt'):\n",
    "    if W_pattern.match(file.name):\n",
    "        weight_files.append(file)\n",
    "    elif b_pattern.match(file.name):\n",
    "        bias_files.append(file)\n",
    "\n",
    "layers = [Layer(w,b) for w,b in zip(weight_files,bias_files)]\n",
    "\n",
    "network = Network(layers)\n",
    "network.read_network_data()"
   ]
  },
  {
   "cell_type": "markdown",
   "metadata": {},
   "source": [
    "<h3>Task 4: code to read the image data (provided by Jonas)</h3>"
   ]
  },
  {
   "cell_type": "code",
   "execution_count": null,
   "metadata": {},
   "outputs": [],
   "source": [
    "from torchvision import datasets, transforms\n",
    "import numpy as np\n",
    "\n",
    "def get_mnist():\n",
    "    return datasets.MNIST(root='./data', train=True, transform=transforms.ToTensor(), download=True)\n",
    "\n",
    "def return_image(image_index, mnist_dataset):\n",
    "    # Get the image and its corresponding label\n",
    "    image, label = mnist_dataset[image_index]\n",
    "\n",
    "    # Now, you have the image as a PyTorch tensor.\n",
    "    # You can access its data as a matrix using .detach().numpy()\n",
    "    image_matrix = image[0].detach().numpy()  # Grayscale image, so we select the first channel (index 0)\n",
    "\n",
    "    return image_matrix.reshape(image_matrix.size), image_matrix, label\n",
    "\n",
    "def read_from_file(name=data_dir / \"image_19961.txt\"):\n",
    "        x = np.zeros(28 * 28)\n",
    "        with open(name) as file:\n",
    "                for i, line in enumerate(file):\n",
    "                    # split and convert values to floats\n",
    "                    x[i * 28 : (i+1)*28] = [float(value) for value in line.strip().split()]\n",
    "\n",
    "# Choose an index to select one of the images\n",
    "image_index = 19962\n",
    "mnist_dataset = get_mnist()\n",
    "x, image, label = return_image(image_index, mnist_dataset) # This here reads image {image_index} from the mnist dataset.\n",
    "x_file = read_from_file() # In case you were not able to install torchvision, you can use this read_from_file function\n",
    "\n",
    "print(f\"Image {image_index} shows the number {label}\")\n",
    "print(f\"The pixels of this image (collected in a vector) are \\n {x}\")"
   ]
  },
  {
   "cell_type": "markdown",
   "metadata": {},
   "source": [
    "<h3>Task 5: Get the network response to image 19961 in the MNIST dataset</h3>\n",
    "\n",
    "The value \"x\" in the above program, is the image vector; we pass this to the network's evaluation method to get the response.\n",
    "We then divide by the maximum vector value to get make the other values in the vector, to represent the certainty relative to the max."
   ]
  },
  {
   "cell_type": "code",
   "execution_count": 39,
   "metadata": {},
   "outputs": [
    {
     "name": "stdout",
     "output_type": "stream",
     "text": [
      "The response vector of the network is: 3\n",
      "y_0 = 0.000\n",
      "y_1 = 0.000\n",
      "y_2 = 0.000\n",
      "y_3 = 1.000\n",
      "y_4 = 0.000\n",
      "y_5 = 0.131\n",
      "y_6 = 0.000\n",
      "y_7 = 0.000\n",
      "y_8 = 0.481\n",
      "y_9 = 0.052\n"
     ]
    }
   ],
   "source": [
    "response_vector = network.evaluate(x)\n",
    "\n",
    "print(f\"The response vector of the network is: {np.argmax(response_vector)}\")\n",
    "for i in range(len(response_vector)):\n",
    "    print(f\"y_{i} = {response_vector[i] / np.max(response_vector):.3f}\")"
   ]
  }
 ],
 "metadata": {
  "kernelspec": {
   "display_name": "INF201",
   "language": "python",
   "name": "python3"
  },
  "language_info": {
   "codemirror_mode": {
    "name": "ipython",
    "version": 3
   },
   "file_extension": ".py",
   "mimetype": "text/x-python",
   "name": "python",
   "nbconvert_exporter": "python",
   "pygments_lexer": "ipython3",
   "version": "3.10.13"
  }
 },
 "nbformat": 4,
 "nbformat_minor": 2
}
