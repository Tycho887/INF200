{
 "cells": [
  {
   "cell_type": "markdown",
   "metadata": {},
   "source": [
    "# Task 1: Generating files and folders\n",
    "\n",
    "<h3>Part 1</h3>"
   ]
  },
  {
   "cell_type": "code",
   "execution_count": 1,
   "metadata": {},
   "outputs": [
    {
     "name": "stdout",
     "output_type": "stream",
     "text": [
      "['1', '2', '3a', '3b', '4a', '4b']\n"
     ]
    }
   ],
   "source": [
    "def list_of_exercises(project_assignment_start, total_number):\n",
    "    exercises = [str(i) for i in range(1,project_assignment_start)]\n",
    "    exercises += [str(i) + char for i in range(project_assignment_start, total_number + 1) for char in [\"a\", \"b\"]]\n",
    "    return exercises\n",
    "\n",
    "print(list_of_exercises(3, 4))"
   ]
  },
  {
   "cell_type": "markdown",
   "metadata": {},
   "source": [
    "<h3>Part 2</h3>"
   ]
  },
  {
   "cell_type": "code",
   "execution_count": 5,
   "metadata": {},
   "outputs": [
    {
     "name": "stdout",
     "output_type": "stream",
     "text": [
      "Projects\\exercise_1\\Ole\n",
      "Projects\\exercise_1\\Sarah\n",
      "Projects\\exercise_2\\Ole\n",
      "Projects\\exercise_2\\Sarah\n",
      "Projects\\exercise_3a\\Ole\n",
      "Projects\\exercise_3a\\Sarah\n",
      "Projects\\exercise_3b\\Ole\n",
      "Projects\\exercise_3b\\Sarah\n",
      "Projects\\exercise_4a\\Ole\n",
      "Projects\\exercise_4a\\Sarah\n",
      "Projects\\exercise_4b\\Ole\n",
      "Projects\\exercise_4b\\Sarah\n"
     ]
    }
   ],
   "source": [
    "students = [\"Ole\", \"Sarah\"]\n",
    "exercises = list_of_exercises(3, 4)\n",
    "\n",
    "from pathlib import Path\n",
    "\n",
    "dir = Path(\"Projects\")\n",
    "dir.mkdir(exist_ok=True)\n",
    "\n",
    "for exercise in exercises:\n",
    "\n",
    "    exercise_path = dir / f\"exercise_{exercise}\"\n",
    "    exercise_path.mkdir(exist_ok=True)\n",
    "\n",
    "    for student in students:\n",
    "        \n",
    "        student_path = exercise_path / student\n",
    "        student_path.mkdir(exist_ok=True)\n",
    "\n",
    "# we want to print out the file structure\n",
    "\n",
    "for path in dir.glob(\"*/*\"): print(path)"
   ]
  },
  {
   "cell_type": "markdown",
   "metadata": {},
   "source": [
    "# Task 2: General addition function"
   ]
  },
  {
   "cell_type": "code",
   "execution_count": 2,
   "metadata": {},
   "outputs": [
    {
     "name": "stdout",
     "output_type": "stream",
     "text": [
      "[1, [2, [3, [4, 5]], 6], 7, [8, 9]]\n",
      "[2, [3, [4, [5, 6]], 7], 8, [9, 10]]\n"
     ]
    }
   ],
   "source": [
    "from copy import deepcopy\n",
    "l = [1, [2, [3, [4, 5]], 6], 7, [8, 9]]\n",
    "\n",
    "def add_one(input_list):\n",
    "    working_list = deepcopy(input_list)\n",
    "    def recursion(List):\n",
    "        for index, value in enumerate(List):\n",
    "            if isinstance(value, list): recursion(value)\n",
    "            else: List[index] += 1\n",
    "    recursion(working_list)\n",
    "    return working_list\n",
    "\n",
    "m = add_one(l)\n",
    "print(l)\n",
    "print(m)\n",
    "\n"
   ]
  }
 ],
 "metadata": {
  "kernelspec": {
   "display_name": "INF201",
   "language": "python",
   "name": "python3"
  },
  "language_info": {
   "codemirror_mode": {
    "name": "ipython",
    "version": 3
   },
   "file_extension": ".py",
   "mimetype": "text/x-python",
   "name": "python",
   "nbconvert_exporter": "python",
   "pygments_lexer": "ipython3",
   "version": "3.10.13"
  },
  "orig_nbformat": 4
 },
 "nbformat": 4,
 "nbformat_minor": 2
}
