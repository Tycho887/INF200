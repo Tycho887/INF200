{
 "cells": [
  {
   "cell_type": "markdown",
   "metadata": {},
   "source": [
    "# Lecture 10: Factories and data encapsulation\n",
    "\n",
    "- Factories are functions that return other functions- or classes. It is essentially a function that returns a customised object.\n",
    "- Factories are useful for encapsulating data. Encapsulation is the process of hiding data from the user. This is useful for making sure that the user does not change the data in a way that is not intended.\n",
    "- For the upcoming exercise, i think it will be useful to use set operations"
   ]
  },
  {
   "cell_type": "code",
   "execution_count": 14,
   "metadata": {},
   "outputs": [
    {
     "name": "stdout",
     "output_type": "stream",
     "text": [
      "011001000\n",
      "True\n"
     ]
    }
   ],
   "source": [
    "_points = (1,1,1,1,1,1,1,1,1)\n",
    "_cells  = {0: {1,2,5},\n",
    "           1: {0,2,3},\n",
    "           2: {0,1,3}}\n",
    "\n",
    "def convert_to_binary_string(cell):\n",
    "    return ''.join([str(int(i in cell)) for i in range(len(_points))])\n",
    "\n",
    "print(convert_to_binary_string(_cells[0]))\n",
    "\n",
    "\n",
    "A = {0,4,5}; B = {3,4,5}; C = {6,7,8}\n",
    "\n",
    "print(2==len(A.intersection(B)))\n",
    "\n",
    "    "
   ]
  },
  {
   "cell_type": "code",
   "execution_count": 30,
   "metadata": {},
   "outputs": [
    {
     "name": "stdout",
     "output_type": "stream",
     "text": [
      "354224848179261915075\n"
     ]
    }
   ],
   "source": [
    "def show_steps(func):\n",
    "    def wrapped_func(*args, **kwargs):\n",
    "        print(\"Input is: \", *args)\n",
    "        res = func(*args, **kwargs)\n",
    "        print(\"Result is: \", res)\n",
    "        return res\n",
    "    return wrapped_func\n",
    "    \n",
    "def memoize(func):\n",
    "    _memo = {}\n",
    "    def wrapped(arg):\n",
    "        if arg not in _memo:\n",
    "            _memo[arg] = func(arg)\n",
    "        return _memo[arg]\n",
    "    return wrapped\n",
    "\n",
    "@memoize # this is a decorator, it is the same as: fib = show_steps(fib)\n",
    "def fib(n):\n",
    "    if n <= 2:\n",
    "        return 1\n",
    "    else:\n",
    "        return fib(n-1)+fib(n-2)\n",
    "\n",
    "print(fib(100))"
   ]
  },
  {
   "cell_type": "markdown",
   "metadata": {},
   "source": [
    "## Decorators for data encapsulation\n",
    "\n",
    "So far, data encapsulation has been enforced with underscores. This is not a very good way of doing it, as it is not enforced by the language. A better way of doing it is to use decorators. Decorators are functions that take a function as an argument and returns a function. This is useful for adding functionality to a function without changing the function itself. For example, if we want to time a function, we can use a decorator to do this. This is done by creating a function that takes a function as an argument, and returns a function that times the function. This is a bit confusing, so let's look at an example:"
   ]
  },
  {
   "cell_type": "code",
   "execution_count": null,
   "metadata": {},
   "outputs": [],
   "source": [
    "import numpy as np\n",
    "\n",
    "class layer:\n",
    "    def __init__(self, n, m):\n",
    "        self._W = np.random.randn(n,m)\n",
    "        self._b = np.random.randn(n,1)\n",
    "\n",
    "    @property\n",
    "    def W(self):\n",
    "        return self._W\n",
    "    @property\n",
    "    def b(self):\n",
    "        return self._b"
   ]
  }
 ],
 "metadata": {
  "kernelspec": {
   "display_name": "INF201",
   "language": "python",
   "name": "python3"
  },
  "language_info": {
   "codemirror_mode": {
    "name": "ipython",
    "version": 3
   },
   "file_extension": ".py",
   "mimetype": "text/x-python",
   "name": "python",
   "nbconvert_exporter": "python",
   "pygments_lexer": "ipython3",
   "version": "3.10.13"
  }
 },
 "nbformat": 4,
 "nbformat_minor": 2
}
