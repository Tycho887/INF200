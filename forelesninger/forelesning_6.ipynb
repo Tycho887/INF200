{
 "cells": [
  {
   "cell_type": "markdown",
   "metadata": {},
   "source": [
    "# Exercise 6: Object oriented programming\n",
    "\n",
    "Important notes\n",
    "\n",
    "* Read the entire exercise/project before starting\n",
    "* Only people who hand in alone will get no points\n",
    "\n",
    "Plan\n",
    "* Git\n",
    "* Pytorch\n",
    "* dataframes\n",
    "* Code debugging"
   ]
  },
  {
   "cell_type": "code",
   "execution_count": 1,
   "metadata": {},
   "outputs": [
    {
     "name": "stdout",
     "output_type": "stream",
     "text": [
      "[[2. 2.]\n",
      " [2. 2.]\n",
      " [2. 2.]]\n",
      "[[1. 1.]\n",
      " [1. 1.]\n",
      " [1. 1.]]\n"
     ]
    }
   ],
   "source": [
    "import numpy as np\n",
    "\n",
    "class layer:\n",
    "    W = np.ones((3,2))\n",
    "    b = np.ones(3)\n",
    "\n",
    "layer = layer\n",
    "\n",
    "print(layer.W * 2)\n",
    "print(layer.W)"
   ]
  },
  {
   "cell_type": "code",
   "execution_count": 2,
   "metadata": {},
   "outputs": [
    {
     "name": "stdout",
     "output_type": "stream",
     "text": [
      "[5350049.86935243 4735113.26210496 5152414.80165862 5435044.90495572\n",
      " 5159752.06460922 4494760.22636201 4670329.86777378 4729966.45141961\n",
      " 4898089.37938758 4831397.72250985]\n"
     ]
    }
   ],
   "source": [
    "import numpy as np\n",
    "class NeuralNetwork:\n",
    "    def __init__(self,layers):\n",
    "        self.size = len(layers)\n",
    "        self.layers = layers\n",
    "        self.activation = lambda x: np.maximum(0,x)\n",
    "        self.generate_weights_and_biases()\n",
    "\n",
    "    def generate_weights_and_biases(self):\n",
    "        self.weights = [np.random.rand(rows,cols) for cols,rows in zip(self.layers[:-1],self.layers[1:])]\n",
    "        self.biases = [np.random.rand(rows) for rows in self.layers[1:]]\n",
    "\n",
    "    def forward(self,x):\n",
    "        for w,b in zip(self.weights,self.biases): \n",
    "            x = self.activation(w @ x + b)\n",
    "        return x\n",
    "\n",
    "layers = [64,128,128,128,10]\n",
    "\n",
    "input_vector = np.random.rand(layers[0])\n",
    "\n",
    "print(NeuralNetwork(layers).forward(input_vector))\n"
   ]
  },
  {
   "cell_type": "code",
   "execution_count": 3,
   "metadata": {},
   "outputs": [
    {
     "data": {
      "text/plain": [
       "3"
      ]
     },
     "execution_count": 3,
     "metadata": {},
     "output_type": "execute_result"
    }
   ],
   "source": [
    "class Player:\n",
    "    def __init__(self,name):\n",
    "        self.id = name\n",
    "        self.position = 1\n",
    "\n",
    "    def move_forward(self) :\n",
    "        self.position += np.random.randint(1,7)\n",
    "    \n",
    "    def move_backward(self):\n",
    "        self.position -= 4\n",
    "        \n",
    "\n",
    "class BoardGame:\n",
    "    def __init__(self,num_players):\n",
    "        self.players = [Player(name) for name in range(1,num_players+1)]\n",
    "        self.winner = None\n",
    "        self.move_back_positions = range(5,32,5)\n",
    "\n",
    "    def play(self):\n",
    "        while self.winner is None:\n",
    "            for player in self.players:\n",
    "                player.move_forward()\n",
    "                if player.position in self.move_back_positions:\n",
    "                    player.move_backward()\n",
    "                if player.position >= 31:\n",
    "                    self.winner = player\n",
    "                    break\n",
    "\n",
    "game = BoardGame(10)\n",
    "game.play()\n",
    "game.winner.id"
   ]
  }
 ],
 "metadata": {
  "kernelspec": {
   "display_name": "INF201",
   "language": "python",
   "name": "python3"
  },
  "language_info": {
   "codemirror_mode": {
    "name": "ipython",
    "version": 3
   },
   "file_extension": ".py",
   "mimetype": "text/x-python",
   "name": "python",
   "nbconvert_exporter": "python",
   "pygments_lexer": "ipython3",
   "version": "3.10.13"
  }
 },
 "nbformat": 4,
 "nbformat_minor": 2
}
