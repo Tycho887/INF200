{
 "cells": [
  {
   "cell_type": "markdown",
   "metadata": {},
   "source": [
    "# Lecture 6: Inheritance\n",
    "\n",
    "## Classes: ways to define your own data types"
   ]
  },
  {
   "cell_type": "code",
   "execution_count": null,
   "metadata": {},
   "outputs": [],
   "source": [
    "# example of a simple class object. this stores the information about an apple\n",
    "\n",
    "class apple:\n",
    "    def __init__(self, color, flavor):\n",
    "        self.color = color\n",
    "        self.flavor = flavor"
   ]
  },
  {
   "cell_type": "markdown",
   "metadata": {},
   "source": [
    "## Terminology\n",
    "\n",
    "1. Data type: how to interpret chunks of memory\n",
    "\n",
    "2. Object: A chunk of data given an address in computer memory. An object can be created, copied, deleted, and passed around in a program.\n",
    "\n",
    "3. Constructor: a method that is called when an object is created\n",
    "\n",
    "4. Class: A class is a user-defined data type. It specifies\n",
    "\n",
    "* Which data an object contains\n",
    "\n",
    "* operations that may be perfomed on the data\n",
    "\n",
    "5. Instance: an object of a class\n",
    "\n",
    "6. Method: a function that is associated with a class   \n",
    "\n",
    "7. data attribute: a variable that is associated with a class\n",
    "\n",
    "8. Overloading: defining a method with the same name as an existing method, but with different arguments\n",
    "\n",
    "9. Abstract classes: classes that cannot be instantiated\n",
    "\n"
   ]
  },
  {
   "cell_type": "code",
   "execution_count": 8,
   "metadata": {},
   "outputs": [
    {
     "name": "stdout",
     "output_type": "stream",
     "text": [
      "[1. 1. 1. 1. 1. 1. 1. 1. 1. 1.]\n"
     ]
    }
   ],
   "source": [
    "import numpy as np\n",
    "class NeuralNetwork:\n",
    "    def __init__(self,layers):\n",
    "        self.size = len(layers)\n",
    "        self.layers = layers\n",
    "        self.activation = lambda x: self.tanh(x)\n",
    "        self.generate_weights_and_biases()\n",
    "\n",
    "    def relu(self,x):\n",
    "        return np.maximum(0,x)\n",
    "    \n",
    "    def sigmoid(self,x):\n",
    "        return 1/(1+np.exp(-x))\n",
    "\n",
    "    def tanh(self,x):\n",
    "        return np.tanh(x)\n",
    "\n",
    "    def generate_weights_and_biases(self):\n",
    "        self.weights = [np.random.rand(rows,cols) for cols,rows in zip(self.layers[:-1],self.layers[1:])]\n",
    "        self.biases = [np.random.rand(rows) for rows in self.layers[1:]]\n",
    "\n",
    "    def forward(self,x):\n",
    "        for w,b in zip(self.weights,self.biases): \n",
    "            x = self.activation(w @ x + b)\n",
    "        return x\n",
    "\n",
    "layers = [64,128,128,128,10]\n",
    "\n",
    "input_vector = np.random.rand(layers[0])\n",
    "\n",
    "print(NeuralNetwork(layers).forward(input_vector))\n"
   ]
  },
  {
   "cell_type": "markdown",
   "metadata": {},
   "source": [
    "## Abstraction"
   ]
  },
  {
   "cell_type": "code",
   "execution_count": null,
   "metadata": {},
   "outputs": [],
   "source": [
    "from abc import ABC, abstractmethod\n",
    "\n",
    "class Animal(ABC):\n",
    "    def __init__(self, name):\n",
    "        self.name = name\n",
    "\n",
    "    @abstractmethod\n",
    "    def make_sound(self):\n",
    "        pass\n",
    "\n",
    "# when creating a child class of this \"animal\" we need to implement the abstract method \"make_sound\""
   ]
  },
  {
   "cell_type": "markdown",
   "metadata": {},
   "source": [
    "## Why object oriented?\n",
    "\n",
    "### Main benefit\n",
    "\n",
    "* Modularity: the ability to break a program into self-contained pieces\n",
    "* Encapsulation: the ability to hide the details of an object from the rest of the program\n",
    "* Polymorphism: the ability to use the same syntax for different types of objects\n",
    "\n",
    "### Disadvantages\n",
    "\n",
    "* Overhead: object oriented programs are often slower than procedural programs\n",
    "* Complexity: object oriented programs are often more complex than procedural programs\n",
    "* Rigidity: object oriented programs are often more difficult to modify than procedural programs"
   ]
  }
 ],
 "metadata": {
  "kernelspec": {
   "display_name": "INF201",
   "language": "python",
   "name": "python3"
  },
  "language_info": {
   "codemirror_mode": {
    "name": "ipython",
    "version": 3
   },
   "file_extension": ".py",
   "mimetype": "text/x-python",
   "name": "python",
   "nbconvert_exporter": "python",
   "pygments_lexer": "ipython3",
   "version": "3.10.13"
  }
 },
 "nbformat": 4,
 "nbformat_minor": 2
}
