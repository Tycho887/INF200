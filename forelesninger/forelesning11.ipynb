{
 "cells": [
  {
   "cell_type": "markdown",
   "metadata": {},
   "source": [
    "# Lecture 11: Assertions and exceptions\n",
    "\n"
   ]
  },
  {
   "cell_type": "code",
   "execution_count": null,
   "metadata": {},
   "outputs": [],
   "source": [
    "from abc import ABC, abstractmethod\n",
    "import numpy as np  \n",
    "\n",
    "\n",
    "class Cell(ABC):\n",
    "    def __init__(self, id, points):\n",
    "        self._id = id\n",
    "        self._points = points\n",
    "\n",
    "    @abstractmethod\n",
    "    def cell_size(self):\n",
    "        pass\n",
    "\n",
    "    def __repr__(self):\n",
    "        return f\"{self.__class__.__name__}({self._id})\"\n",
    "\n",
    "    @property\n",
    "    def id(self):\n",
    "        return self._id\n",
    "\n",
    "class Line(Cell):\n",
    "    def __init__(self, id, points):\n",
    "        assert len(points) == 2\n",
    "        super().__init__(id, points)\n",
    "\n",
    "    def cell_size(self):\n",
    "        return self._points[1] - self._points[0]\n",
    "\n",
    "class Point(Cell):\n",
    "    def __init__(self, id, points):\n",
    "        assert len(points) == 1\n",
    "        super().__init__(id, points)\n",
    "\n",
    "    def cell_size(self):\n",
    "        return 0\n",
    "\n",
    "class Mesh:\n",
    "    def __init__(self,point_list):\n",
    "        self.point_list = point_list\n",
    "        self.cell_list = list(self.cell_factory())\n",
    "\n",
    "    @abstractmethod\n",
    "    def cell_factory(self):\n",
    "        id = 0\n",
    "        yield Point(id,[self.point_list[0]])\n",
    "        for x,y in zip(self.point_list[0:-1],self.point_list[1:-1]):\n",
    "            id += 1\n",
    "            yield Line(id,[x,y])\n",
    "        yield Point(id+1,[self.point_list[-1]])\n",
    "        \n",
    "\n",
    "point_values = np.linspace(0,1,100)\n",
    "\n",
    "mesh = Mesh(point_values)\n",
    "for cell in mesh.cell_list:\n",
    "    print(cell.cell_size())"
   ]
  },
  {
   "cell_type": "markdown",
   "metadata": {},
   "source": [
    "## Unit tests\n",
    "\n",
    "Use the built-in module `unittest` to write unit tests.\n",
    "\n",
    "This can be found in the bunsen flask symbol in VScode"
   ]
  },
  {
   "cell_type": "code",
   "execution_count": null,
   "metadata": {},
   "outputs": [],
   "source": []
  },
  {
   "cell_type": "markdown",
   "metadata": {},
   "source": [
    "## Pytorch\n",
    "\n",
    "Pytorch has built in functionality for finding derivatives of functions, and more specifically finding how sensitive a function is to a given input."
   ]
  }
 ],
 "metadata": {
  "kernelspec": {
   "display_name": "INF201",
   "language": "python",
   "name": "python3"
  },
  "language_info": {
   "codemirror_mode": {
    "name": "ipython",
    "version": 3
   },
   "file_extension": ".py",
   "mimetype": "text/x-python",
   "name": "python",
   "nbconvert_exporter": "python",
   "pygments_lexer": "ipython3",
   "version": "3.10.13"
  }
 },
 "nbformat": 4,
 "nbformat_minor": 2
}
