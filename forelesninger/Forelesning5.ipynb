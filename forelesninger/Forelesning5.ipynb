{
 "cells": [
  {
   "cell_type": "markdown",
   "metadata": {},
   "source": [
    "# SETS\n",
    "\n",
    "sets in python are similar to their mathematical definition; that is, they are a collection of items like numbers or objects"
   ]
  },
  {
   "cell_type": "code",
   "execution_count": null,
   "metadata": {},
   "outputs": [],
   "source": [
    "s = set([1,2,3])\n",
    "s = {1,2,3}\n",
    "# we can build sets using set comprehensions\n",
    "s2 = {x**2 for x in range(10)}"
   ]
  },
  {
   "cell_type": "markdown",
   "metadata": {},
   "source": [
    "We can use operands on such sets\n",
    "* Combine sets: c = s | b\n",
    "* Combine sets as union: c = s & b\n",
    "* s without b"
   ]
  },
  {
   "cell_type": "code",
   "execution_count": 8,
   "metadata": {},
   "outputs": [
    {
     "name": "stdout",
     "output_type": "stream",
     "text": [
      "odd nonprime numbers {1, 9, 15}\n",
      "odd prime numbers {3, 5, 7, 11, 13, 17, 19}\n"
     ]
    }
   ],
   "source": [
    "numbers = 21\n",
    "odds = {num for num in range(20) if num % 2 == 1}\n",
    "# now we want to find a set of all prime numbers less than the varaible numbers\n",
    "# we want to accomplish this using a set comprehension\n",
    "\n",
    "primes = {2,3,5,7,11,13,17,19}\n",
    "\n",
    "def is_prime(n):\n",
    "    if n < 2:\n",
    "        return False\n",
    "    for i in range(2,n):\n",
    "        if n % i == 0:\n",
    "            return False\n",
    "    return True\n",
    "\n",
    "print(\"odd nonprime numbers\", odds - primes)\n",
    "print(\"odd prime numbers\", primes & odds)\n"
   ]
  },
  {
   "cell_type": "markdown",
   "metadata": {},
   "source": [
    "# Neural Networks: A simple overview\n",
    "\n",
    "Neural newtworks work by taking a input, doing a set of \"blackbox\" operations before returning a result."
   ]
  }
 ],
 "metadata": {
  "kernelspec": {
   "display_name": "INF201",
   "language": "python",
   "name": "python3"
  },
  "language_info": {
   "codemirror_mode": {
    "name": "ipython",
    "version": 3
   },
   "file_extension": ".py",
   "mimetype": "text/x-python",
   "name": "python",
   "nbconvert_exporter": "python",
   "pygments_lexer": "ipython3",
   "version": "3.10.13"
  }
 },
 "nbformat": 4,
 "nbformat_minor": 2
}
