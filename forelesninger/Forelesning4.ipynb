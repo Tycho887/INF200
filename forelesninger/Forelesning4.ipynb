{
 "cells": [
  {
   "cell_type": "markdown",
   "metadata": {
    "slideshow": {
     "slide_type": "notes"
    }
   },
   "source": [
    "<h1>Lecture 4</h1>"
   ]
  },
  {
   "cell_type": "code",
   "execution_count": 7,
   "metadata": {},
   "outputs": [
    {
     "name": "stdout",
     "output_type": "stream",
     "text": [
      "   Unnamed: 0  Well being  Productivity  Energy  Stress  Anxiety  Depression\n",
      "0  2023-10-01         5.0           5.0     5.0     1.0      1.0         1.0\n",
      "1  2023-10-02         3.0           3.0     3.0     3.0      3.0         3.0\n",
      "2  2023-10-03         1.0           1.0     1.0     5.0      5.0         5.0\n",
      "3  2023-10-04         4.0           3.0     5.0     2.0      1.0         3.0\n",
      "4  2023-10-05         NaN           NaN     NaN     NaN      NaN         NaN\n",
      "5  2023-10-06         NaN           NaN     NaN     NaN      NaN         NaN\n",
      "6  2023-10-07         NaN           NaN     NaN     NaN      NaN         NaN\n",
      "7  2023-10-08         NaN           NaN     NaN     NaN      NaN         NaN\n",
      "8  2023-10-09         NaN           NaN     NaN     NaN      NaN         NaN\n",
      "9  2023-10-10         NaN           NaN     NaN     NaN      NaN         NaN\n",
      "10 2023-10-11         NaN           NaN     NaN     NaN      NaN         NaN\n",
      "11 2023-10-12         NaN           NaN     NaN     NaN      NaN         NaN\n",
      "12 2023-10-13         NaN           NaN     NaN     NaN      NaN         NaN\n",
      "13 2023-10-14         NaN           NaN     NaN     NaN      NaN         NaN\n",
      "14 2023-10-15         NaN           NaN     NaN     NaN      NaN         NaN\n",
      "15 2023-10-16         NaN           NaN     NaN     NaN      NaN         NaN\n",
      "16 2023-10-17         NaN           NaN     NaN     NaN      NaN         NaN\n",
      "17 2023-10-18         NaN           NaN     NaN     NaN      NaN         NaN\n",
      "18 2023-10-19         NaN           NaN     NaN     NaN      NaN         NaN\n",
      "19 2023-10-20         NaN           NaN     NaN     NaN      NaN         NaN\n",
      "20 2023-10-21         NaN           NaN     NaN     NaN      NaN         NaN\n",
      "21 2023-10-22         NaN           NaN     NaN     NaN      NaN         NaN\n",
      "22 2023-10-23         NaN           NaN     NaN     NaN      NaN         NaN\n",
      "23 2023-10-24         NaN           NaN     NaN     NaN      NaN         NaN\n",
      "24 2023-10-25         NaN           NaN     NaN     NaN      NaN         NaN\n",
      "25 2023-10-26         NaN           NaN     NaN     NaN      NaN         NaN\n",
      "26 2023-10-27         NaN           NaN     NaN     NaN      NaN         NaN\n",
      "27 2023-10-28         NaN           NaN     NaN     NaN      NaN         NaN\n",
      "28 2023-10-29         NaN           NaN     NaN     NaN      NaN         NaN\n",
      "29 2023-10-30         NaN           NaN     NaN     NaN      NaN         NaN\n",
      "30 2023-10-31         NaN           NaN     NaN     NaN      NaN         NaN\n"
     ]
    }
   ],
   "source": [
    "import pathlib \n",
    "import pandas as pd\n",
    "from IPython.display import display\n",
    "\n",
    "cwd = pathlib.Path.cwd()\n",
    "# get the files in the data folder\n",
    "data_folder = cwd / 'data'\n",
    "for item in data_folder.glob('*.xlsx'):\n",
    "    \n",
    "    # display the data in the excel file\n",
    "    data = pd.read_excel(item)\n",
    "    print(data)"
   ]
  },
  {
   "cell_type": "markdown",
   "metadata": {},
   "source": [
    "<h3>Viktige uttrykk for å jobbe med pathlib</h3>\n",
    "\n",
    "* cwd.exists()\n",
    "* cwd.is_dir()\n",
    "* cwd.is_file()\n",
    "* cwd.is_absolute()\n",
    "* cwd.as_uri()\n",
    "\n",
    "for path in Path('..').glob('Lecture_[123]/*.py'):\n",
    "\n",
    "\n",
    "[123] betyr at den vil skjekke alle filene som har enten 1,2 eller 3 i denne karakterposisjonen\n",
    "\n",
    "Vi kan generere nye mapper med å bruke \"path.mkdir()\""
   ]
  },
  {
   "cell_type": "code",
   "execution_count": 34,
   "metadata": {},
   "outputs": [],
   "source": [
    "from pathlib import Path\n",
    "import yaml\n",
    "\n",
    "dir = Path('Training')\n",
    "if not dir.exists():\n",
    "    dir.mkdir()\n",
    "\n",
    "test_cases = [\"CIFAR\"+str(num) for num in range(10,100,10)]\n",
    "learningsrates = [10**(-i) for i in range(1,7)]\n",
    "\n",
    "\n",
    "for tc in test_cases:\n",
    "    path_t = dir / tc \n",
    "    if not path_t.exists():\n",
    "        path_t.mkdir()  \n",
    "    for lr in learningsrates:\n",
    "        with open(path_t / f\"lr_{lr}.txt\",\"w\") as jfile:\n",
    "            yaml.dump({\"learningrate\":lr, \"epochs\": 100},jfile)\n"
   ]
  },
  {
   "cell_type": "markdown",
   "metadata": {},
   "source": [
    "<h3>Renaming folders and files</h3>\n",
    "\n"
   ]
  },
  {
   "cell_type": "code",
   "execution_count": 41,
   "metadata": {},
   "outputs": [],
   "source": [
    "from pathlib import Path\n",
    "demo_dir = Path('demo')\n",
    "\n",
    "for old_name in demo_dir.glob('*/*.txt'):\n",
    "    new_name = old_name[:-4]\n",
    "    old_name.rename(new_name+'.yml')\n"
   ]
  },
  {
   "cell_type": "markdown",
   "metadata": {},
   "source": [
    "<h1>Matrix data</h1>\n",
    "\n",
    "We can build a matrix using nested lists, or numpy arrays"
   ]
  },
  {
   "cell_type": "code",
   "execution_count": 107,
   "metadata": {},
   "outputs": [
    {
     "name": "stdout",
     "output_type": "stream",
     "text": [
      "[[2 3 4 5]\n",
      " [3 4 5 6]\n",
      " [4 5 6 7]]\n",
      "[[2 3 4 5]\n",
      " [3 4 5 6]\n",
      " [4 5 6 7]]\n"
     ]
    },
    {
     "ename": "AttributeError",
     "evalue": "'list' object has no attribute 'deepcopy'",
     "output_type": "error",
     "traceback": [
      "\u001b[1;31m---------------------------------------------------------------------------\u001b[0m",
      "\u001b[1;31mAttributeError\u001b[0m                            Traceback (most recent call last)",
      "\u001b[1;32mc:\\Users\\Michael\\Desktop\\python_programs\\INF201\\Forelesning4.ipynb Cell 8\u001b[0m line \u001b[0;36m2\n\u001b[0;32m     <a href='vscode-notebook-cell:/c%3A/Users/Michael/Desktop/python_programs/INF201/Forelesning4.ipynb#X21sZmlsZQ%3D%3D?line=17'>18</a>\u001b[0m \u001b[39mprint\u001b[39m(np\u001b[39m.\u001b[39marray(A))\n\u001b[0;32m     <a href='vscode-notebook-cell:/c%3A/Users/Michael/Desktop/python_programs/INF201/Forelesning4.ipynb#X21sZmlsZQ%3D%3D?line=18'>19</a>\u001b[0m \u001b[39mprint\u001b[39m(np\u001b[39m.\u001b[39marray(B))\n\u001b[1;32m---> <a href='vscode-notebook-cell:/c%3A/Users/Michael/Desktop/python_programs/INF201/Forelesning4.ipynb#X21sZmlsZQ%3D%3D?line=19'>20</a>\u001b[0m np\u001b[39m.\u001b[39marray(add(A,B))\n",
      "\u001b[1;32mc:\\Users\\Michael\\Desktop\\python_programs\\INF201\\Forelesning4.ipynb Cell 8\u001b[0m line \u001b[0;36m1\n\u001b[0;32m      <a href='vscode-notebook-cell:/c%3A/Users/Michael/Desktop/python_programs/INF201/Forelesning4.ipynb#X21sZmlsZQ%3D%3D?line=7'>8</a>\u001b[0m \u001b[39mdef\u001b[39;00m \u001b[39madd\u001b[39m(A,B):\n\u001b[0;32m      <a href='vscode-notebook-cell:/c%3A/Users/Michael/Desktop/python_programs/INF201/Forelesning4.ipynb#X21sZmlsZQ%3D%3D?line=8'>9</a>\u001b[0m     C \u001b[39m=\u001b[39m A\u001b[39m.\u001b[39mcopy() \u001b[39m# using shallow copy wont allocate new memory for the nested lists\u001b[39;00m\n\u001b[1;32m---> <a href='vscode-notebook-cell:/c%3A/Users/Michael/Desktop/python_programs/INF201/Forelesning4.ipynb#X21sZmlsZQ%3D%3D?line=9'>10</a>\u001b[0m     C \u001b[39m=\u001b[39m A\u001b[39m.\u001b[39;49mdeepcopy() \u001b[39m# using deepcopy will allocate new memory for the nested lists\u001b[39;00m\n\u001b[0;32m     <a href='vscode-notebook-cell:/c%3A/Users/Michael/Desktop/python_programs/INF201/Forelesning4.ipynb#X21sZmlsZQ%3D%3D?line=10'>11</a>\u001b[0m     \u001b[39mprint\u001b[39m(\u001b[39mid\u001b[39m(C)\u001b[39m==\u001b[39m\u001b[39mid\u001b[39m(A))\n\u001b[0;32m     <a href='vscode-notebook-cell:/c%3A/Users/Michael/Desktop/python_programs/INF201/Forelesning4.ipynb#X21sZmlsZQ%3D%3D?line=11'>12</a>\u001b[0m     C \u001b[39m=\u001b[39m [[\u001b[39m0\u001b[39m \u001b[39mfor\u001b[39;00m i \u001b[39min\u001b[39;00m \u001b[39mrange\u001b[39m(\u001b[39mlen\u001b[39m(A))] \u001b[39mfor\u001b[39;00m j \u001b[39min\u001b[39;00m \u001b[39mrange\u001b[39m(\u001b[39mlen\u001b[39m(A))]\n",
      "\u001b[1;31mAttributeError\u001b[0m: 'list' object has no attribute 'deepcopy'"
     ]
    }
   ],
   "source": [
    "import numpy as np\n",
    "\n",
    "A = [[i+j for i in range(4)] for j in range(2,5)]\n",
    "B = [[i+j for i in range(4)] for j in range(2,5)]\n",
    "\n",
    "#print(A)\n",
    "\n",
    "def add(A,B):\n",
    "    C = A.copy() # using shallow copy wont allocate new memory for the nested lists\n",
    "    C = A.deepcopy() # using deepcopy will allocate new memory for the nested lists\n",
    "    print(id(C)==id(A))\n",
    "    C = [[0 for i in range(len(A))] for j in range(len(A))]\n",
    "    for i, row_c in enumerate(C):\n",
    "        for j, value_c in enumerate(row_c):\n",
    "            C[i][j] = A[i][j] + B[i][j]\n",
    "    print(id(C)==id(A))\n",
    "    return C\n",
    "print(np.array(A))\n",
    "print(np.array(B))\n",
    "np.array(add(A,B))\n"
   ]
  },
  {
   "cell_type": "markdown",
   "metadata": {},
   "source": [
    "<h1>Memory Address</h1>\n",
    "\n",
    "When defining an object using a pointer to a specific address in memory like when doing\n",
    "\n",
    "* A = B, where B = somelist\n",
    "* then id(A) = id(B)\n",
    "\n",
    "the \"copy\" command, creates a new object with a different memory address, however this does not work in cases of nested lists\n",
    "in this case you should use the \"deepcopy\" from the .copy library:\n",
    "* from copy import deepcopy\n",
    "\n",
    "If you want to modify very large datasets: use deepcopy\n",
    "\n",
    "If you only want to read data: use equality sign"
   ]
  }
 ],
 "metadata": {
  "kernelspec": {
   "display_name": "INF201",
   "language": "python",
   "name": "python3"
  },
  "language_info": {
   "codemirror_mode": {
    "name": "ipython",
    "version": 3
   },
   "file_extension": ".py",
   "mimetype": "text/x-python",
   "name": "python",
   "nbconvert_exporter": "python",
   "pygments_lexer": "ipython3",
   "version": "3.10.13"
  },
  "orig_nbformat": 4
 },
 "nbformat": 4,
 "nbformat_minor": 2
}
