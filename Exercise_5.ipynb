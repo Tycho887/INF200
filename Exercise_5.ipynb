{
 "cells": [
  {
   "cell_type": "markdown",
   "metadata": {},
   "source": [
    "# Task 1: Implement a primitive neural network"
   ]
  },
  {
   "cell_type": "code",
   "execution_count": null,
   "metadata": {},
   "outputs": [],
   "source": [
    "import numpy as np\n",
    "\n",
    "# want to create a primitive neural network\n",
    "\n",
    "def layer(input_vector, weights, bias):\n",
    "    assert input_vector.shape[0] == weights.shape[1] and weights.shape[0] == bias.shape[0], \"Input vector, weights, and bias must have compatible shapes\"\n",
    "    return weights @ input_vector + bias\n",
    "\n",
    "def relu(x):\n",
    "    return np.maximum(x, 0)\n",
    "\n",
    "input_size = 8**2\n",
    "output_size = 10\n",
    "input_vector = np.random.rand(input_size)\n",
    "weights = np.random.rand(output_size, input_size)\n",
    "bias = np.random.rand(output_size)\n"
   ]
  }
 ],
 "metadata": {
  "language_info": {
   "name": "python"
  }
 },
 "nbformat": 4,
 "nbformat_minor": 2
}
