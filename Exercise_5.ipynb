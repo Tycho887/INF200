{
 "cells": [
  {
   "cell_type": "markdown",
   "metadata": {},
   "source": [
    "# Task 1: Implement a primitive neural network\n",
    "\n",
    "<h3>Part 1 and 2: Define the first two layers</h3>"
   ]
  },
  {
   "cell_type": "code",
   "execution_count": 1,
   "metadata": {},
   "outputs": [
    {
     "name": "stdout",
     "output_type": "stream",
     "text": [
      "[269.300292   267.44620465 300.26876959 285.44639683 267.43938116\n",
      " 272.5996104  274.60207487 250.94251561 272.95960825 275.25058945]\n"
     ]
    }
   ],
   "source": [
    "import numpy as np\n",
    "\n",
    "def relu(x):\n",
    "    return np.maximum(x, 0, x) # this returns 0 if x < 0, otherwise it returns x\n",
    "\n",
    "def layer(input_vector, weights, bias):\n",
    "    assert input_vector.shape[0] == weights.shape[1] and weights.shape[0] == bias.shape[0], \"Input vector, weights, and bias must have compatible shapes\"\n",
    "    return relu(weights @ input_vector + bias)\n",
    "\n",
    "input_size = 8**2\n",
    "intermediate_size = 32\n",
    "output_size = 10\n",
    "\n",
    "input_vector = np.random.rand(input_size)\n",
    "\n",
    "weights_1 = np.random.rand(intermediate_size,input_size) # 32 rows x 64 cols\n",
    "bias_1 = np.random.rand(intermediate_size)\n",
    "\n",
    "weights_2 = np.random.rand(output_size, intermediate_size) # 10 rows x 32 cols\n",
    "bias_2 = np.random.rand(output_size)\n",
    "\n",
    "output = layer(input_vector, weights_1, bias_1)\n",
    "output = layer(output, weights_2, bias_2)\n",
    "\n",
    "print(output)"
   ]
  },
  {
   "cell_type": "markdown",
   "metadata": {},
   "source": [
    "<h3>Part 3: Generalising to N layers</h3>"
   ]
  },
  {
   "cell_type": "code",
   "execution_count": 2,
   "metadata": {},
   "outputs": [
    {
     "data": {
      "text/plain": [
       "array([173854.75540145, 433757.89059165, 149698.17282257, 293817.82392323])"
      ]
     },
     "execution_count": 2,
     "metadata": {},
     "output_type": "execute_result"
    }
   ],
   "source": [
    "layers = [64,48,32,10,8,4,4]\n",
    "input_vector = np.random.rand(layers[0])\n",
    "\n",
    "def generate_network(layers):\n",
    "    weights = []\n",
    "    biases = []\n",
    "    for index,size in enumerate(layers[1:]):\n",
    "        m = size; n = layers[index]\n",
    "        weights.append(np.random.rand(m,n))\n",
    "        biases.append(np.random.rand(m))\n",
    "    return weights, biases\n",
    "\n",
    "def run_network(input_vector, layers, show_dims=False):\n",
    "    weights, biases = generate_network(layers)\n",
    "    output = input_vector\n",
    "    for weight, bias in zip(weights, biases):\n",
    "        output = layer(output, weight, bias)\n",
    "        if show_dims:\n",
    "            print(f\"rows: {weight.shape[0]:<3} cols: {weight.shape[1]:<3}\")\n",
    "    return output\n",
    "\n",
    "run_network(input_vector, layers)"
   ]
  },
  {
   "cell_type": "markdown",
   "metadata": {},
   "source": [
    "<h3>Part 4: Using the generalised function</h3>"
   ]
  },
  {
   "cell_type": "code",
   "execution_count": 3,
   "metadata": {},
   "outputs": [
    {
     "name": "stdout",
     "output_type": "stream",
     "text": [
      "rows: 128 cols: 64 \n",
      "rows: 128 cols: 128\n",
      "rows: 128 cols: 128\n",
      "rows: 10  cols: 128\n"
     ]
    },
    {
     "data": {
      "text/plain": [
       "array([4571957.58559148, 4441769.4188772 , 4114270.31145774,\n",
       "       4529973.79254949, 4330236.58752122, 4496514.96415654,\n",
       "       4556754.95187848, 4194672.13774866, 4205138.89445475,\n",
       "       3965503.24463069])"
      ]
     },
     "execution_count": 3,
     "metadata": {},
     "output_type": "execute_result"
    }
   ],
   "source": [
    "layers = [64,128,128,128,10]\n",
    "input_vector = np.random.rand(layers[0])\n",
    "run_network(input_vector, layers, show_dims=True)"
   ]
  }
 ],
 "metadata": {
  "kernelspec": {
   "display_name": "INF201",
   "language": "python",
   "name": "python3"
  },
  "language_info": {
   "codemirror_mode": {
    "name": "ipython",
    "version": 3
   },
   "file_extension": ".py",
   "mimetype": "text/x-python",
   "name": "python",
   "nbconvert_exporter": "python",
   "pygments_lexer": "ipython3",
   "version": "3.10.13"
  }
 },
 "nbformat": 4,
 "nbformat_minor": 2
}
