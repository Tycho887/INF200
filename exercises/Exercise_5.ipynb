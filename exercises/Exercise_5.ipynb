{
 "cells": [
  {
   "cell_type": "markdown",
   "metadata": {},
   "source": [
    "# Task 1: Implement a primitive neural network\n",
    "\n",
    "<h3>Part 1 and 2: Define the first two layers</h3>"
   ]
  },
  {
   "cell_type": "code",
   "execution_count": 2,
   "metadata": {},
   "outputs": [
    {
     "name": "stdout",
     "output_type": "stream",
     "text": [
      "[346.51014777 285.24371156 255.40979998 237.41691754 296.92799113\n",
      " 207.52920564 276.00240525 256.83246367 318.35270636 300.10505264]\n"
     ]
    }
   ],
   "source": [
    "import numpy as np\n",
    "\n",
    "def relu(x):\n",
    "    return np.maximum(x, 0, x) # this returns 0 if x < 0, otherwise it returns x\n",
    "\n",
    "def layer(input_vector, weights, bias):\n",
    "    assert input_vector.shape[0] == weights.shape[1] and weights.shape[0] == bias.shape[0], \"Input vector, weights, and bias must have compatible shapes\"\n",
    "    return relu(weights @ input_vector + bias)\n",
    "\n",
    "input_size = 8**2\n",
    "intermediate_size = 32\n",
    "output_size = 10\n",
    "\n",
    "input_vector = np.random.rand(input_size)\n",
    "\n",
    "weights_1 = np.random.rand(intermediate_size,input_size) # 32 rows x 64 cols\n",
    "bias_1 = np.random.rand(intermediate_size)\n",
    "\n",
    "weights_2 = np.random.rand(output_size, intermediate_size) # 10 rows x 32 cols\n",
    "bias_2 = np.random.rand(output_size)\n",
    "\n",
    "output = layer(input_vector, weights_1, bias_1)\n",
    "output = layer(output, weights_2, bias_2)\n",
    "\n",
    "print(output)"
   ]
  },
  {
   "cell_type": "markdown",
   "metadata": {},
   "source": [
    "<h3>Part 3: Generalising to N layers</h3>"
   ]
  },
  {
   "cell_type": "code",
   "execution_count": 3,
   "metadata": {},
   "outputs": [
    {
     "data": {
      "text/plain": [
       "array([156963.0652822 , 421924.70049298, 227030.3525538 , 323171.51416382])"
      ]
     },
     "execution_count": 3,
     "metadata": {},
     "output_type": "execute_result"
    }
   ],
   "source": [
    "layers = [64,48,32,10,8,4,4]\n",
    "input_vector = np.random.rand(layers[0])\n",
    "\n",
    "def generate_network(layers):\n",
    "    weights = []\n",
    "    biases = []\n",
    "    for index,size in enumerate(layers[1:]):\n",
    "        m = size; n = layers[index]\n",
    "        weights.append(np.random.rand(m,n))\n",
    "        biases.append(np.random.rand(m))\n",
    "    return weights, biases\n",
    "\n",
    "def run_network(input_vector, layers, show_dims=False):\n",
    "    weights, biases = generate_network(layers)\n",
    "    output = input_vector\n",
    "    for weight, bias in zip(weights, biases):\n",
    "        output = layer(output, weight, bias)\n",
    "        if show_dims:\n",
    "            print(f\"rows: {weight.shape[0]:<3} cols: {weight.shape[1]:<3}\")\n",
    "    return output\n",
    "\n",
    "run_network(input_vector, layers)"
   ]
  },
  {
   "cell_type": "markdown",
   "metadata": {},
   "source": [
    "<h3>Part 4: Using the generalised function</h3>"
   ]
  },
  {
   "cell_type": "code",
   "execution_count": 4,
   "metadata": {},
   "outputs": [
    {
     "name": "stdout",
     "output_type": "stream",
     "text": [
      "rows: 128 cols: 64 \n",
      "rows: 128 cols: 128\n",
      "rows: 128 cols: 128\n",
      "rows: 10  cols: 128\n"
     ]
    },
    {
     "data": {
      "text/plain": [
       "array([5453103.26342901, 4863008.4629223 , 5055094.56746998,\n",
       "       4710710.60543289, 5007095.5715873 , 4571515.89072055,\n",
       "       4799089.32743799, 4966783.0903191 , 5254505.16626512,\n",
       "       4950946.31490162])"
      ]
     },
     "execution_count": 4,
     "metadata": {},
     "output_type": "execute_result"
    }
   ],
   "source": [
    "layers = [64,128,128,128,10]\n",
    "input_vector = np.random.rand(layers[0])\n",
    "run_network(input_vector, layers, show_dims=True)"
   ]
  }
 ],
 "metadata": {
  "kernelspec": {
   "display_name": "INF201",
   "language": "python",
   "name": "python3"
  },
  "language_info": {
   "codemirror_mode": {
    "name": "ipython",
    "version": 3
   },
   "file_extension": ".py",
   "mimetype": "text/x-python",
   "name": "python",
   "nbconvert_exporter": "python",
   "pygments_lexer": "ipython3",
   "version": "3.10.13"
  }
 },
 "nbformat": 4,
 "nbformat_minor": 2
}
