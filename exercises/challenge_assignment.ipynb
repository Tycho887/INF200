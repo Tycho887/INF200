{
 "cells": [
  {
   "cell_type": "markdown",
   "metadata": {},
   "source": [
    "**Importing modules**"
   ]
  },
  {
   "cell_type": "code",
   "execution_count": null,
   "metadata": {},
   "outputs": [],
   "source": [
    "import torch\n",
    "import torch.nn as nn\n",
    "import torch.optim as optim\n",
    "import torchvision\n",
    "import torchvision.transforms as transforms\n",
    "from torchvision import datasets\n",
    "from torch.utils.data import DataLoader\n",
    "from pathlib import Path\n",
    "import numpy as np\n",
    "import matplotlib.pyplot as plt\n"
   ]
  },
  {
   "cell_type": "markdown",
   "metadata": {},
   "source": [
    "**Creating the NN object**"
   ]
  },
  {
   "cell_type": "code",
   "execution_count": null,
   "metadata": {},
   "outputs": [],
   "source": [
    "layer_sizes = [784, 512, 256, 10]\n",
    "\n",
    "# Define a simple neural network model\n",
    "class Net(nn.Module):\n",
    "    \"\"\"\" \n",
    "    This is a class Neural network implemented in pytorch. \n",
    "    It inherits from nn.Module and thereby makes sure that fancy functionalities \n",
    "    of Pytorch will be available for your neural network architecture. \n",
    "    \"\"\"\n",
    "    def __init__(self):\n",
    "        super(Net, self).__init__()\n",
    "        # Define your layers. Usually one defines linear layers and uses the relu function around these layers. \n",
    "        # A Linear layer is define via lin = nn.Linear(input_dim, output_dim)\n",
    "        self.layers = nn.Sequential(\n",
    "            nn.Linear(layer_sizes[0], layer_sizes[1]),\n",
    "            nn.ReLU(),\n",
    "            nn.Linear(layer_sizes[1], layer_sizes[2]),\n",
    "            nn.ReLU(),\n",
    "            nn.Linear(layer_sizes[2], layer_sizes[3])\n",
    "        )\n",
    "\n",
    "    def forward(self, x):\n",
    "        # Define your evaluate function. You can use the pytorch relu function via torch.relu\n",
    "        # You can call your linear layer at a given input x via self.lin(x)\n",
    "        x = x.view(-1, 28 * 28)  # Flatten the input such that we have a vector\n",
    "        x = self.layers(x)  # Pass through the defined layers\n",
    "        return x\n",
    "\n",
    "# Initialize the neural network model\n",
    "net = Net()"
   ]
  },
  {
   "cell_type": "markdown",
   "metadata": {},
   "source": [
    "**Network training**"
   ]
  },
  {
   "cell_type": "code",
   "execution_count": null,
   "metadata": {},
   "outputs": [],
   "source": [
    "# Everything below this line is not relevant for you. It is used to download the dataset and train the neural network.\n",
    "\n",
    "# Define loss function and optimizer\n",
    "criterion = nn.CrossEntropyLoss()\n",
    "optimizer = optim.SGD(net.parameters(), lr=0.001, momentum=0.9)\n",
    "\n",
    "# Define data transformations and load the MNIST dataset\n",
    "transform = transforms.Compose([transforms.ToTensor(), transforms.Normalize((0.5,), (0.5,))])\n",
    "\n",
    "train_dataset = datasets.MNIST(root='./data', train=True, transform=transform, download=True)\n",
    "train_loader = DataLoader(train_dataset, batch_size=64, shuffle=True)\n",
    "\n",
    "# Training loop\n",
    "\n",
    "for epoch in range(1):  # You can adjust the number of epochs\n",
    "    running_loss = 0.0\n",
    "    for i, data in enumerate(train_loader, 0):\n",
    "        inputs, labels = data\n",
    "        optimizer.zero_grad()\n",
    "        outputs = net(inputs)\n",
    "        loss = criterion(outputs, labels)\n",
    "        loss.backward()\n",
    "        optimizer.step()\n",
    "        running_loss += loss.item()\n",
    "        if i % 100 == 99:  # Print every 100 mini-batches\n",
    "            print(f'Epoch {epoch + 1}, Mini-Batch {i + 1}, Loss: {running_loss / 100:.3f}')\n",
    "            running_loss = 0.0\n",
    "\n",
    "print(\"Training finished\")\n",
    "\n",
    "# Save the trained model\n",
    "torch.save(net.state_dict(), 'mnist_model.pth')"
   ]
  },
  {
   "cell_type": "markdown",
   "metadata": {},
   "source": [
    "**Get the images**"
   ]
  },
  {
   "cell_type": "code",
   "execution_count": null,
   "metadata": {},
   "outputs": [],
   "source": [
    "cwd = Path.cwd()\n",
    "data_dir = cwd.parent / 'data'\n",
    "\n",
    "def get_mnist():\n",
    "    return datasets.MNIST(root='./data', train=True, transform=transforms.ToTensor(), download=True)\n",
    "\n",
    "def return_image(image_index, mnist_dataset):\n",
    "    # Get the image and its corresponding label\n",
    "    image, label = mnist_dataset[image_index]\n",
    "\n",
    "    # Now, you have the image as a PyTorch tensor.\n",
    "    # You can access its data as a matrix using .detach().numpy()\n",
    "    image_matrix = image[0].detach().numpy()  # Grayscale image, so we select the first channel (index 0)\n",
    "\n",
    "    return image_matrix.reshape(image_matrix.size), image_matrix, label\n",
    "\n",
    "def read_from_file(name=data_dir / \"image_19961.txt\"):\n",
    "        x = np.zeros(28 * 28)\n",
    "        with open(name) as file:\n",
    "                for i, line in enumerate(file):\n",
    "                    # split and convert values to floats\n",
    "                    x[i * 28 : (i+1)*28] = [float(value) for value in line.strip().split()]\n",
    "\n",
    "\n"
   ]
  },
  {
   "cell_type": "markdown",
   "metadata": {},
   "source": [
    "**Running the network**"
   ]
  },
  {
   "cell_type": "code",
   "execution_count": 40,
   "metadata": {},
   "outputs": [
    {
     "data": {
      "image/png": "[encoded data removed]",
      "text/plain": [
       "<Figure size 640x480 with 1 Axes>"
      ]
     },
     "metadata": {},
     "output_type": "display_data"
    },
    {
     "name": "stdout",
     "output_type": "stream",
     "text": [
      "The response vector of the network is: 2\n",
      "Image 27589 shows the number 3\n"
     ]
    }
   ],
   "source": [
    "# Choose an index to select one of the images\n",
    "image_index = 27589\n",
    "mnist_dataset = get_mnist()\n",
    "x, image, label = return_image(image_index, mnist_dataset) # This here reads image {image_index} from the mnist dataset.\n",
    "x_file = read_from_file() # In case you were not able to install torchvision, you can use this read_from_file function\n",
    "\n",
    "\n",
    "response_vector = net.forward(torch.tensor(x)).detach().numpy()\n",
    "\n",
    "plt.imshow(image, cmap='gray')\n",
    "plt.show()\n",
    "\n",
    "print(f\"The response vector of the network is: {np.argmax(response_vector)}\")\n",
    "print(f\"Image {image_index} shows the number {label}\")"
   ]
  }
 ],
 "metadata": {
  "kernelspec": {
   "display_name": "INF201",
   "language": "python",
   "name": "python3"
  },
  "language_info": {
   "codemirror_mode": {
    "name": "ipython",
    "version": 3
   },
   "file_extension": ".py",
   "mimetype": "text/x-python",
   "name": "python",
   "nbconvert_exporter": "python",
   "pygments_lexer": "ipython3",
   "version": "3.10.13"
  }
 },
 "nbformat": 4,
 "nbformat_minor": 2
}
