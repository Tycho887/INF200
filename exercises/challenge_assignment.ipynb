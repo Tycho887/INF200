{
 "cells": [
  {
   "cell_type": "markdown",
   "metadata": {},
   "source": [
    "**Importing modules**"
   ]
  },
  {
   "cell_type": "code",
   "execution_count": null,
   "metadata": {},
   "outputs": [],
   "source": [
    "import torch\n",
    "import torch.nn as nn\n",
    "import torch.optim as optim\n",
    "import torchvision\n",
    "import torchvision.transforms as transforms\n",
    "from torchvision import datasets\n",
    "from torch.utils.data import DataLoader"
   ]
  },
  {
   "cell_type": "markdown",
   "metadata": {},
   "source": [
    "**Creating the NN object**"
   ]
  },
  {
   "cell_type": "code",
   "execution_count": null,
   "metadata": {},
   "outputs": [],
   "source": [
    "layer_sizes = [784, 512, 256, 10]\n",
    "\n",
    "# Define a simple neural network model\n",
    "class Net(nn.Module):\n",
    "    \"\"\"\" \n",
    "    This is a class Neural network implemented in pytorch. \n",
    "    It inherits from nn.Module and thereby makes sure that fancy functionalities \n",
    "    of Pytorch will be available for your neural network architecture. \n",
    "    \"\"\"\n",
    "    def __init__(self):\n",
    "        super(Net, self).__init__()\n",
    "        # Define your layers. Usually one defines linear layers and uses the relu function around these layers. \n",
    "        # A Linear layer is define via lin = nn.Linear(input_dim, output_dim)\n",
    "        self.layers = nn.Sequential(\n",
    "            nn.Linear(layer_sizes[0], layer_sizes[1]),\n",
    "            nn.ReLU(),\n",
    "            nn.Linear(layer_sizes[1], layer_sizes[2]),\n",
    "            nn.ReLU(),\n",
    "            nn.Linear(layer_sizes[2], layer_sizes[3])\n",
    "        )\n",
    "\n",
    "    def forward(self, x):\n",
    "        # Define your evaluate function. You can use the pytorch relu function via torch.relu\n",
    "        # You can call your linear layer at a given input x via self.lin(x)\n",
    "        x = x.view(-1, 28 * 28)  # Flatten the input such that we have a vector\n",
    "        x = self.layers(x)  # Pass through the defined layers\n",
    "        return x\n",
    "\n",
    "# Initialize the neural network model\n",
    "net = Net()"
   ]
  },
  {
   "cell_type": "markdown",
   "metadata": {},
   "source": [
    "**Network training**"
   ]
  },
  {
   "cell_type": "code",
   "execution_count": null,
   "metadata": {},
   "outputs": [],
   "source": [
    "# Everything below this line is not relevant for you. It is used to download the dataset and train the neural network.\n",
    "\n",
    "# Define loss function and optimizer\n",
    "criterion = nn.CrossEntropyLoss()\n",
    "optimizer = optim.SGD(net.parameters(), lr=0.001, momentum=0.9)\n",
    "\n",
    "# Define data transformations and load the MNIST dataset\n",
    "transform = transforms.Compose([transforms.ToTensor(), transforms.Normalize((0.5,), (0.5,))])\n",
    "\n",
    "train_dataset = datasets.MNIST(root='./data', train=True, transform=transform, download=True)\n",
    "train_loader = DataLoader(train_dataset, batch_size=64, shuffle=True)\n",
    "\n",
    "# Training loop\n",
    "\n",
    "for epoch in range(10):  # You can adjust the number of epochs\n",
    "    running_loss = 0.0\n",
    "    for i, data in enumerate(train_loader, 0):\n",
    "        inputs, labels = data\n",
    "        optimizer.zero_grad()\n",
    "        outputs = net(inputs)\n",
    "        loss = criterion(outputs, labels)\n",
    "        loss.backward()\n",
    "        optimizer.step()\n",
    "        running_loss += loss.item()\n",
    "        if i % 100 == 99:  # Print every 100 mini-batches\n",
    "            print(f'Epoch {epoch + 1}, Mini-Batch {i + 1}, Loss: {running_loss / 100:.3f}')\n",
    "            running_loss = 0.0\n",
    "\n",
    "print(\"Training finished\")\n",
    "\n",
    "# Save the trained model\n",
    "torch.save(net.state_dict(), 'mnist_model.pth')"
   ]
  }
 ],
 "metadata": {
  "kernelspec": {
   "display_name": "INF201",
   "language": "python",
   "name": "python3"
  },
  "language_info": {
   "codemirror_mode": {
    "name": "ipython",
    "version": 3
   },
   "file_extension": ".py",
   "mimetype": "text/x-python",
   "name": "python",
   "nbconvert_exporter": "python",
   "pygments_lexer": "ipython3",
   "version": "3.10.13"
  }
 },
 "nbformat": 4,
 "nbformat_minor": 2
}
